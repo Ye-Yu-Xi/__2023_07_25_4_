{
 "cells": [
  {
   "cell_type": "code",
   "execution_count": 2,
   "metadata": {},
   "outputs": [],
   "source": [
    "#參數的沒有default值\n",
    "def scores(chinese, english, math):\n",
    "    print(f\"國文:{chinese},英文:{english},數學:{math}\")"
   ]
  },
  {
   "cell_type": "code",
   "execution_count": 3,
   "metadata": {},
   "outputs": [
    {
     "name": "stdout",
     "output_type": "stream",
     "text": [
      "國文:78,英文:89,數學:92\n",
      "國文:89,英文:92,數學:73\n"
     ]
    }
   ],
   "source": [
    "scores(78,89,math=92)\n",
    "scores(89, 92, 73)"
   ]
  },
  {
   "cell_type": "code",
   "execution_count": 4,
   "metadata": {},
   "outputs": [
    {
     "name": "stdout",
     "output_type": "stream",
     "text": [
      "國文:89,英文:60,數學:60\n",
      "國文:90,英文:60,數學:89\n",
      "國文:75,英文:95,數學:45\n"
     ]
    }
   ],
   "source": [
    "#參數有default,一定要放在最後\n",
    "def scores1(chinese, english=60, math=60):\n",
    "    print(f\"國文:{chinese},英文:{english},數學:{math}\")\n",
    "\n",
    "scores1(89)\n",
    "scores1(90,math=89)\n",
    "scores1(75,math=45,english=95)"
   ]
  },
  {
   "cell_type": "code",
   "execution_count": 6,
   "metadata": {},
   "outputs": [
    {
     "name": "stdout",
     "output_type": "stream",
     "text": [
      "50到150的質數是:\n",
      "53 59 61 67 71 73 79 83 89 97 101 103 107 109 113 127 131 137 139 149 "
     ]
    }
   ],
   "source": [
    "def print_prime(first,end): \n",
    "    if first < 2:\n",
    "        first = 2\n",
    "\n",
    "    print(f\"{first}到{end}的質數是:\")\n",
    "    for num in range(first,end+1):\n",
    "        is_prime = True\n",
    "        for i in range(2,num):\n",
    "            if num % i == 0:\n",
    "                is_prime = False\n",
    "\n",
    "        if is_prime:\n",
    "            print(f\"{num}\",end=\" \")\n",
    "\n",
    "f = int(input(\"請輸入first值:\"))\n",
    "e = int(input(\"請輸入end值:\"))\n",
    "print_prime(f,e)"
   ]
  }
 ],
 "metadata": {
  "kernelspec": {
   "display_name": "Python 3",
   "language": "python",
   "name": "python3"
  },
  "language_info": {
   "codemirror_mode": {
    "name": "ipython",
    "version": 3
   },
   "file_extension": ".py",
   "mimetype": "text/x-python",
   "name": "python",
   "nbconvert_exporter": "python",
   "pygments_lexer": "ipython3",
   "version": "3.10.12"
  },
  "orig_nbformat": 4
 },
 "nbformat": 4,
 "nbformat_minor": 2
}
